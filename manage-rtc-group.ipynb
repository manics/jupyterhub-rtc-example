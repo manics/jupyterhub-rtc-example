{
 "cells": [
  {
   "cell_type": "markdown",
   "id": "df0d996e-0b53-49f4-a031-6b2cda5130d9",
   "metadata": {},
   "source": [
    "https://jupyterhub.readthedocs.io/en/stable/reference/rest.html"
   ]
  },
  {
   "cell_type": "code",
   "execution_count": 1,
   "id": "2b005dbe-acda-4a73-acf4-17927b33bad3",
   "metadata": {},
   "outputs": [],
   "source": [
    "import os\n",
    "import requests\n",
    "\n",
    "api_url =  os.getenv('JUPYTERHUB_API_URL')\n",
    "user = os.getenv('JUPYTERHUB_USER')\n",
    "\n",
    "\n",
    "def get(path, token):\n",
    "    r = requests.get(f'{api_url}{path}', headers={'Authorization': f'token {token}'})\n",
    "    r.raise_for_status()\n",
    "    return r.json()\n",
    "\n",
    "\n",
    "def post(path, data, token):\n",
    "    r = requests.post(f'{api_url}{path}', json=data, headers={'Authorization': f'token {token}'})\n",
    "    r.raise_for_status()\n",
    "    return r.json()\n",
    "\n",
    "\n",
    "def delete(path, data, token):\n",
    "    r = requests.delete(f'{api_url}{path}', json=data, headers={'Authorization': f'token {token}'})\n",
    "    r.raise_for_status()\n",
    "    return r.json()\n",
    "\n",
    "\n",
    "def add_user_access(user_to_share_with, token):\n",
    "    access_group_name = f'rtc-access-{user}'\n",
    "    # If user already in group does nothing\n",
    "    data = {'users': [user_to_share_with]}\n",
    "    post(f'/groups/{access_group_name}/users', data, token)\n",
    "\n",
    "\n",
    "def remove_user_access(user_to_unshare_with, token):\n",
    "    access_group_name = f'rtc-access-{user}'\n",
    "    # If user not in group does nothing\n",
    "    data = {'users': [user_to_unshare_with]}\n",
    "    delete(f'/groups/{access_group_name}/users', data, token)\n"
   ]
  },
  {
   "cell_type": "markdown",
   "id": "2101eeb9-845a-469c-8c5c-6dadbd92924d",
   "metadata": {},
   "source": [
    "Note `JUPYTERHUB_API_TOKEN` only has scopes `[\"users:activity!user\", \"access:servers!user\"]` so you need to create manually a token from `http(s)://<jupyter-base-url>/hub/token` and add it in the following cell:"
   ]
  },
  {
   "cell_type": "code",
   "execution_count": 2,
   "id": "41670379-7c1b-4f4a-a286-3205c5baf232",
   "metadata": {},
   "outputs": [
    {
     "name": "stdout",
     "output_type": "stream",
     "text": [
      "Users in rtc-access-user-1: []\n"
     ]
    }
   ],
   "source": [
    "token = '<TOKEN>'\n",
    "\n",
    "access_group_name = f'rtc-access-{user}'\n",
    "user_to_share_with = 'user-2'\n",
    "\n",
    "print(f'Users in {access_group_name}: ' + str(get(f'/groups/{access_group_name}', token)['users']))"
   ]
  },
  {
   "cell_type": "markdown",
   "id": "499b5d73-78d1-4da5-9abd-921f8be06fc0",
   "metadata": {},
   "source": [
    "Add a user to the group"
   ]
  },
  {
   "cell_type": "code",
   "execution_count": 3,
   "id": "74a507e8-060c-4199-84c0-07ea0f5f85c4",
   "metadata": {},
   "outputs": [
    {
     "name": "stdout",
     "output_type": "stream",
     "text": [
      "Users in rtc-access-user-1: ['user-2']\n"
     ]
    }
   ],
   "source": [
    "add_user_access(user_to_share_with, token)\n",
    "print(f'Users in {access_group_name}: ' + str(get(f'/groups/{access_group_name}', token)['users']))"
   ]
  },
  {
   "cell_type": "markdown",
   "id": "1895fd9c-adf5-4227-9b2b-0556e67133d8",
   "metadata": {},
   "source": [
    "Remove a user from the group (note the user will *not* be kicked out of an existing server)"
   ]
  },
  {
   "cell_type": "code",
   "execution_count": 4,
   "id": "89a87122-628b-47a5-86f0-bdc26f766965",
   "metadata": {},
   "outputs": [
    {
     "name": "stdout",
     "output_type": "stream",
     "text": [
      "Users in rtc-access-user-1: []\n"
     ]
    }
   ],
   "source": [
    "remove_user_access(user_to_share_with, token)\n",
    "print(f'Users in {access_group_name}: ' + str(get(f'/groups/{access_group_name}', token)['users']))"
   ]
  },
  {
   "cell_type": "code",
   "execution_count": null,
   "id": "9487badc-7353-495f-b990-363447b6d695",
   "metadata": {},
   "outputs": [],
   "source": []
  }
 ],
 "metadata": {
  "kernelspec": {
   "display_name": "Python 3 (ipykernel)",
   "language": "python",
   "name": "python3"
  },
  "language_info": {
   "codemirror_mode": {
    "name": "ipython",
    "version": 3
   },
   "file_extension": ".py",
   "mimetype": "text/x-python",
   "name": "python",
   "nbconvert_exporter": "python",
   "pygments_lexer": "ipython3",
   "version": "3.9.6"
  }
 },
 "nbformat": 4,
 "nbformat_minor": 5
}
